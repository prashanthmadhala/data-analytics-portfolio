{
 "cells": [
  {
   "cell_type": "code",
   "execution_count": 1,
   "id": "b164d50c-951e-4d29-ae20-0ab435aca6a7",
   "metadata": {},
   "outputs": [],
   "source": [
    "import pandas as pd\n",
    "import numpy as np"
   ]
  },
  {
   "cell_type": "code",
   "execution_count": 2,
   "id": "3d1fa316-64d0-4e17-97a0-7ccead8a6dc1",
   "metadata": {},
   "outputs": [],
   "source": [
    "# Import the CSV file and assign it to df_dataset\n",
    "df_dataset = pd.read_csv(link to the file path)"
   ]
  },
  {
   "cell_type": "code",
   "execution_count": 3,
   "id": "83a3078a-427d-4475-bcab-19fbfd856e13",
   "metadata": {},
   "outputs": [
    {
     "name": "stdout",
     "output_type": "stream",
     "text": [
      "  Product ID        Date  Cost of Goods Sold  Current Price  Competitor Price  \\\n",
      "0       P001  2025-01-01                  48          53.86             55.24   \n",
      "1       P001  2025-01-02                  48          52.19             54.17   \n",
      "2       P001  2025-01-03                  48          53.70             55.28   \n",
      "3       P001  2025-01-04                  48          53.67             54.49   \n",
      "4       P001  2025-01-05                  48          52.29             55.38   \n",
      "\n",
      "   Sales Volume  \n",
      "0            15  \n",
      "1             8  \n",
      "2            15  \n",
      "3            13  \n",
      "4             1  \n"
     ]
    }
   ],
   "source": [
    "# Verify the data by printing the first few rows\n",
    "print(df_dataset.head())"
   ]
  },
  {
   "cell_type": "code",
   "execution_count": 4,
   "id": "4af7f72c-91f2-4ca9-bf50-8cc7d337c191",
   "metadata": {},
   "outputs": [
    {
     "name": "stdout",
     "output_type": "stream",
     "text": [
      "Pricing Action Distribution:\n",
      "Action\n",
      "maintain    544\n",
      "increase     31\n",
      "decrease     25\n",
      "Name: count, dtype: int64\n"
     ]
    }
   ],
   "source": [
    "# Step 1: Create the Classification Label (\"Action\")\n",
    "# We define a rule:\n",
    "# - If the competitor price is more than 2 units higher than the current price, label \"increase\".\n",
    "# - If the competitor price is more than 2 units lower than the current price AND sales volume is below the median, label \"decrease\".\n",
    "# - Otherwise, label \"maintain\".\n",
    "\n",
    "# Compute the median sales volume (for our rule)\n",
    "median_sales_volume = df_dataset['Sales Volume'].median()\n",
    "\n",
    "def pricing_action(row, threshold=2):\n",
    "    price_diff = row['Competitor Price'] - row['Current Price']\n",
    "    if price_diff > threshold:\n",
    "        return 'increase'\n",
    "    elif price_diff < -threshold and row['Sales Volume'] < median_sales_volume:\n",
    "        return 'decrease'\n",
    "    else:\n",
    "        return 'maintain'\n",
    "\n",
    "# Apply the rule to create a new column \"Action\"\n",
    "df_dataset['Action'] = df_dataset.apply(pricing_action, axis=1)\n",
    "\n",
    "# Check the distribution of the action labels\n",
    "print(\"Pricing Action Distribution:\")\n",
    "print(df_dataset['Action'].value_counts())"
   ]
  },
  {
   "cell_type": "code",
   "execution_count": 5,
   "id": "532d9bed-1d94-4274-bf94-849cd27f264d",
   "metadata": {},
   "outputs": [],
   "source": [
    "# Step 2: Define Features and Target for the Classification Model\n",
    "# We will use \"Cost of Goods Sold\", \"Competitor Price\", and \"Sales Volume\" as features\n",
    "# and \"Action\" as the target variable.\n",
    "\n",
    "features = ['Cost of Goods Sold', 'Competitor Price', 'Sales Volume']\n",
    "target = 'Action'\n",
    "\n",
    "X = df_dataset[features]\n",
    "y = df_dataset[target]"
   ]
  },
  {
   "cell_type": "code",
   "execution_count": 6,
   "id": "34a0ef9d-172a-4381-97fe-00877d190673",
   "metadata": {},
   "outputs": [
    {
     "name": "stdout",
     "output_type": "stream",
     "text": [
      "Training set size: 480\n",
      "Testing set size: 120\n"
     ]
    }
   ],
   "source": [
    "# Step 3: Split the Data into Training and Testing Sets\n",
    "from sklearn.model_selection import train_test_split\n",
    "\n",
    "X_train, X_test, y_train, y_test = train_test_split(\n",
    "    X, y, test_size=0.2, random_state=42\n",
    ")\n",
    "print(\"Training set size:\", X_train.shape[0])\n",
    "print(\"Testing set size:\", X_test.shape[0])"
   ]
  },
  {
   "cell_type": "code",
   "execution_count": 7,
   "id": "b8f80d93-df5b-41c0-ae25-ad7c8d04b2f2",
   "metadata": {},
   "outputs": [
    {
     "name": "stdout",
     "output_type": "stream",
     "text": [
      "Decision Tree Classifier trained successfully.\n"
     ]
    }
   ],
   "source": [
    "# Step 4: Build and Train the Decision Tree Classifier\n",
    "from sklearn.tree import DecisionTreeClassifier\n",
    "\n",
    "clf = DecisionTreeClassifier(random_state=42)\n",
    "clf.fit(X_train, y_train)\n",
    "print(\"Decision Tree Classifier trained successfully.\")"
   ]
  },
  {
   "cell_type": "code",
   "execution_count": 8,
   "id": "e592ba21-255c-45ca-9708-b177b214498a",
   "metadata": {},
   "outputs": [
    {
     "name": "stdout",
     "output_type": "stream",
     "text": [
      "Classification Model Evaluation:\n",
      "-------------------------------\n",
      "Accuracy: 0.875\n",
      "\n",
      "Classification Report:\n",
      "              precision    recall  f1-score   support\n",
      "\n",
      "    decrease       0.20      0.33      0.25         6\n",
      "    increase       0.60      0.75      0.67         4\n",
      "    maintain       0.95      0.91      0.93       110\n",
      "\n",
      "    accuracy                           0.88       120\n",
      "   macro avg       0.58      0.66      0.62       120\n",
      "weighted avg       0.90      0.88      0.89       120\n",
      "\n"
     ]
    }
   ],
   "source": [
    "# Step 5: Evaluate the Classification Model\n",
    "from sklearn.metrics import accuracy_score, classification_report\n",
    "\n",
    "y_pred = clf.predict(X_test)\n",
    "accuracy = accuracy_score(y_test, y_pred)\n",
    "report = classification_report(y_test, y_pred)\n",
    "\n",
    "print(\"Classification Model Evaluation:\")\n",
    "print(\"-------------------------------\")\n",
    "print(\"Accuracy:\", accuracy)\n",
    "print(\"\\nClassification Report:\")\n",
    "print(report)"
   ]
  },
  {
   "cell_type": "code",
   "execution_count": 16,
   "id": "e2c1ad89-2348-4355-93db-45dac36190a7",
   "metadata": {},
   "outputs": [
    {
     "name": "stdout",
     "output_type": "stream",
     "text": [
      "The predicted pricing action for the new product is: maintain\n"
     ]
    }
   ],
   "source": [
    "# Step 6: Use the Classification Model to Predict the Pricing Action for a New Product\n",
    "# Example: For a product with:\n",
    "# - Cost of Goods Sold = 30\n",
    "# - Competitor Price = 45\n",
    "# - Sales Volume = 10\n",
    "\n",
    "new_product = pd.DataFrame({\n",
    "    'Cost of Goods Sold': [30],\n",
    "    'Competitor Price': [45],\n",
    "    'Sales Volume': [10]\n",
    "})\n",
    "\n",
    "predicted_action = clf.predict(new_product)[0]\n",
    "print(\"The predicted pricing action for the new product is:\", predicted_action)"
   ]
  },
  {
   "cell_type": "code",
   "execution_count": null,
   "id": "e68964b5-03d1-4a9c-8b13-92e7720c2ec1",
   "metadata": {},
   "outputs": [],
   "source": []
  }
 ],
 "metadata": {
  "kernelspec": {
   "display_name": "Python 3 (ipykernel)",
   "language": "python",
   "name": "python3"
  },
  "language_info": {
   "codemirror_mode": {
    "name": "ipython",
    "version": 3
   },
   "file_extension": ".py",
   "mimetype": "text/x-python",
   "name": "python",
   "nbconvert_exporter": "python",
   "pygments_lexer": "ipython3",
   "version": "3.12.4"
  }
 },
 "nbformat": 4,
 "nbformat_minor": 5
}
